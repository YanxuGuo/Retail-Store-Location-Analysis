{
 "cells": [
  {
   "cell_type": "code",
   "execution_count": 1,
   "metadata": {},
   "outputs": [],
   "source": [
    "import pandas as pd\n",
    "from sklearn.ensemble import RandomForestRegressor\n",
    "import pickle"
   ]
  },
  {
   "cell_type": "code",
   "execution_count": 2,
   "metadata": {},
   "outputs": [],
   "source": [
    "def feature_select(input_df):\n",
    "    output_df = input_df[['MedianIncome', 'MedianAge', 'Family', 'Nonfamily',\n",
    "       'Householdsize0', 'Householdsize2', 'Pop Age 15+: Married',\n",
    "       'Pop Age 15+: Nevermarried', 'Pop Age 15+: Divorced',\n",
    "       'Pop Age 25+: Bachelor\\'s Degree', 'Pop Age 25 Grad Professional',\n",
    "       'Adult', 'Blackpop', 'Whitepop', 'Hispanicpop', 'Mobility', 'AREA',\n",
    "       'Population_Density', 'Female_density', 'GDP', 'Is_Florida',\n",
    "       'Is_Tennessee', 'Is_Alabama', 'TJ.Maxx', 'Marshalls', 'HomeGoods',\n",
    "       'Lowe\\'s_3m', 'The Home Depot_3m', 'Walmart_3m', 'Burlington_3m',\n",
    "       'Kohl\\'s_3m', 'Ross Dress for Less_3m', 'Lowe\\'s_visits_3m',\n",
    "       'The Home Depot_visits_3m', 'Walmart_visits_3m', 'Burlington_visits_3m',\n",
    "       'Kohl\\'s_visits_3m', 'Ross Dress for Less_visits_3m', 'Lowe\\'s_1m',\n",
    "       'The Home Depot_1m', 'Burlington_1m', 'Kohl\\'s_1m',\n",
    "       'Ross Dress for Less_1m', 'Lowe\\'s_visits_1m',\n",
    "       'The Home Depot_visits_1m', 'Burlington_visits_1m', 'Kohl\\'s_visits_1m',\n",
    "       'Ross Dress for Less_visits_1m', 'Aldi\\'s_3m', 'Publix_3m',\n",
    "       'The Fresh Market_3m', 'Whole Foods Market_3m', 'Winn-Dixie_3m',\n",
    "       'Aldi\\'s_visits_3m', 'Publix_visits_3m', 'The Fresh Market_visits_3m',\n",
    "       'Whole Foods Market_visits_3m', 'Winn-Dixie_visits_3m', 'num_star',\n",
    "       'tjmaxx_3m', 'Marshalls_3m', 'Homegoods_3m', 'tjmaxx_visits_3m',\n",
    "       'Marshalls_visits_3m', 'Homegoods_visits_3m']]\n",
    "    return output_df\n",
    "\n",
    "########################################################################################\n",
    "def winsorize(input_df):\n",
    "    import pickle\n",
    "    # load the mean and standard deviation of the original data distribution\n",
    "    file = open('mean.pkl', 'rb')\n",
    "    df_mean = pickle.load(file)\n",
    "    df_mean = df_mean.drop(labels=['Population'])\n",
    "    file.close()\n",
    "    \n",
    "    file = open('std.pkl', 'rb')\n",
    "    df_std = pickle.load(file)\n",
    "    df_std = df_std.drop(labels=['Population'])\n",
    "    file.close()\n",
    "    \n",
    "    # winsorize using 3*std\n",
    "    df_1 = pd.DataFrame()\n",
    "    for i in input_df.columns:\n",
    "        temp = input_df[i].copy()\n",
    "        lo = temp - 3*df_std[i]\n",
    "        up = temp + 3*df_std[i]\n",
    "        temp[temp < lo] = lo\n",
    "        temp[temp > up] = up\n",
    "\n",
    "        df_1 = pd.concat([df_1, temp], axis=1, ignore_index=True, sort=False)\n",
    "    df_1.columns = input_df.columns\n",
    "    return df_1\n",
    "\n",
    "########################################################################################\n",
    "def min_max(df):\n",
    "    # load the min and max value of the original data distribution\n",
    "    import pickle\n",
    "    file = open('max.pkl', 'rb')\n",
    "    df_max = pickle.load(file)\n",
    "    df_max = df_max.drop(labels=['Population'])\n",
    "    file.close()\n",
    "    \n",
    "    file = open('min.pkl', 'rb')\n",
    "    df_min = pickle.load(file)\n",
    "    df_min = df_min.drop(labels=['Population'])\n",
    "    file.close()\n",
    "    \n",
    "    output_df = (df - df_min) / (df_max - df_min)\n",
    "    return output_df\n",
    "\n"
   ]
  },
  {
   "cell_type": "code",
   "execution_count": 3,
   "metadata": {},
   "outputs": [],
   "source": [
    "def model_output(df):\n",
    "    preprocessed_df = min_max(winsorize(feature_select(df)))\n",
    "    # load the model\n",
    "    import pickle\n",
    "    file = open('rf.pkl', 'rb')\n",
    "    rf = pickle.load(file)\n",
    "    file.close()\n",
    "    \n",
    "    return rf.predict(preprocessed_df)"
   ]
  },
  {
   "cell_type": "code",
   "execution_count": 4,
   "metadata": {},
   "outputs": [],
   "source": [
    "df = pd.read_csv('dataset.csv', index_col='Unnamed: 0')"
   ]
  },
  {
   "cell_type": "code",
   "execution_count": 5,
   "metadata": {},
   "outputs": [
    {
     "name": "stderr",
     "output_type": "stream",
     "text": [
      "/Users/xujunlan/opt/anaconda3/lib/python3.9/site-packages/sklearn/base.py:329: UserWarning: Trying to unpickle estimator DecisionTreeRegressor from version 1.0.2 when using version 1.1.3. This might lead to breaking code or invalid results. Use at your own risk. For more info please refer to:\n",
      "https://scikit-learn.org/stable/model_persistence.html#security-maintainability-limitations\n",
      "  warnings.warn(\n",
      "/Users/xujunlan/opt/anaconda3/lib/python3.9/site-packages/sklearn/base.py:329: UserWarning: Trying to unpickle estimator RandomForestRegressor from version 1.0.2 when using version 1.1.3. This might lead to breaking code or invalid results. Use at your own risk. For more info please refer to:\n",
      "https://scikit-learn.org/stable/model_persistence.html#security-maintainability-limitations\n",
      "  warnings.warn(\n"
     ]
    }
   ],
   "source": [
    "#predict for tjmaxx\n",
    "tjmaxx_out = model_output(df)"
   ]
  },
  {
   "cell_type": "code",
   "execution_count": 6,
   "metadata": {},
   "outputs": [
    {
     "name": "stderr",
     "output_type": "stream",
     "text": [
      "/Users/xujunlan/opt/anaconda3/lib/python3.9/site-packages/sklearn/base.py:329: UserWarning: Trying to unpickle estimator DecisionTreeRegressor from version 1.0.2 when using version 1.1.3. This might lead to breaking code or invalid results. Use at your own risk. For more info please refer to:\n",
      "https://scikit-learn.org/stable/model_persistence.html#security-maintainability-limitations\n",
      "  warnings.warn(\n",
      "/Users/xujunlan/opt/anaconda3/lib/python3.9/site-packages/sklearn/base.py:329: UserWarning: Trying to unpickle estimator RandomForestRegressor from version 1.0.2 when using version 1.1.3. This might lead to breaking code or invalid results. Use at your own risk. For more info please refer to:\n",
      "https://scikit-learn.org/stable/model_persistence.html#security-maintainability-limitations\n",
      "  warnings.warn(\n"
     ]
    }
   ],
   "source": [
    "#predict for marshalls\n",
    "df['TJ.Maxx']=0\n",
    "df['Marshalls']=1\n",
    "marshall_out = model_output(df)"
   ]
  },
  {
   "cell_type": "code",
   "execution_count": 7,
   "metadata": {},
   "outputs": [
    {
     "name": "stderr",
     "output_type": "stream",
     "text": [
      "/Users/xujunlan/opt/anaconda3/lib/python3.9/site-packages/sklearn/base.py:329: UserWarning: Trying to unpickle estimator DecisionTreeRegressor from version 1.0.2 when using version 1.1.3. This might lead to breaking code or invalid results. Use at your own risk. For more info please refer to:\n",
      "https://scikit-learn.org/stable/model_persistence.html#security-maintainability-limitations\n",
      "  warnings.warn(\n",
      "/Users/xujunlan/opt/anaconda3/lib/python3.9/site-packages/sklearn/base.py:329: UserWarning: Trying to unpickle estimator RandomForestRegressor from version 1.0.2 when using version 1.1.3. This might lead to breaking code or invalid results. Use at your own risk. For more info please refer to:\n",
      "https://scikit-learn.org/stable/model_persistence.html#security-maintainability-limitations\n",
      "  warnings.warn(\n"
     ]
    }
   ],
   "source": [
    "#predict for homegoods\n",
    "df['HomeGoods']=1\n",
    "df['Marshalls']=0\n",
    "homegoods_out = model_output(df)"
   ]
  },
  {
   "cell_type": "code",
   "execution_count": 8,
   "metadata": {},
   "outputs": [],
   "source": [
    "df['TJ.Maxx']=tjmaxx_out\n",
    "df['Marshalls']=marshall_out\n",
    "df['HomeGoods']=homegoods_out"
   ]
  },
  {
   "cell_type": "code",
   "execution_count": 12,
   "metadata": {},
   "outputs": [],
   "source": [
    "#Alabama\n",
    "alabama = df[df['Is_Alabama']== 1]\n",
    "#tjmaxx -- 5 stores\n",
    "ala_tj = alabama.nlargest(5, columns='TJ.Maxx')\n",
    "ala_tj['is_TJMaxx'] = 1\n",
    "ala_tj['is_Marshalls'] = 0\n",
    "ala_tj['is_HomeGoods'] = 0\n",
    "\n",
    "#marshalls -- 3 stores\n",
    "ala_ma = alabama.nlargest(3, columns='Marshalls')\n",
    "ala_ma['is_TJMaxx'] = 0\n",
    "ala_ma['is_Marshalls'] = 1\n",
    "ala_ma['is_HomeGoods'] = 0\n",
    "\n",
    "#homegoods -- 3 stores\n",
    "ala_hg = alabama.nlargest(3, columns='HomeGoods')\n",
    "ala_hg['is_TJMaxx'] = 0\n",
    "ala_hg['is_Marshalls'] = 0\n",
    "ala_hg['is_HomeGoods'] = 1"
   ]
  },
  {
   "cell_type": "code",
   "execution_count": 13,
   "metadata": {},
   "outputs": [],
   "source": [
    "#Florida\n",
    "florida = df[df['Is_Florida']== 1]\n",
    "#tjmaxx -- 10 stores\n",
    "fl_tj = florida.nlargest(10, columns='TJ.Maxx')\n",
    "fl_tj['is_TJMaxx'] = 1\n",
    "fl_tj['is_Marshalls'] = 0\n",
    "fl_tj['is_HomeGoods'] = 0\n",
    "\n",
    "#marshalls -- 10 stores\n",
    "fl_ma = florida.nlargest(10, columns='Marshalls')\n",
    "fl_ma['is_TJMaxx'] = 0\n",
    "fl_ma['is_Marshalls'] = 1\n",
    "fl_ma['is_HomeGoods'] = 0\n",
    "\n",
    "#homegoods -- 10 stores\n",
    "fl_hg = florida.nlargest(10, columns='HomeGoods')\n",
    "fl_hg['is_TJMaxx'] = 0\n",
    "fl_hg['is_Marshalls'] = 0\n",
    "fl_hg['is_HomeGoods'] = 1"
   ]
  },
  {
   "cell_type": "code",
   "execution_count": 14,
   "metadata": {},
   "outputs": [],
   "source": [
    "#Tennessee\n",
    "tennessee = df[df['Is_Tennessee']== 1]\n",
    "#tjmaxx -- 5 stores\n",
    "tn_tj = tennessee.nlargest(5, columns='TJ.Maxx')\n",
    "tn_tj['is_TJMaxx'] = 1\n",
    "tn_tj['is_Marshalls'] = 0\n",
    "tn_tj['is_HomeGoods'] = 0\n",
    "\n",
    "#marshalls -- 3 stores\n",
    "tn_ma = tennessee.nlargest(3, columns='Marshalls')\n",
    "tn_ma['is_TJMaxx'] = 0\n",
    "tn_ma['is_Marshalls'] = 1\n",
    "tn_ma['is_HomeGoods'] = 0\n",
    "\n",
    "#homegoods -- 3 stores\n",
    "tn_hg = tennessee.nlargest(3, columns='HomeGoods')\n",
    "tn_hg['is_TJMaxx'] = 0\n",
    "tn_hg['is_Marshalls'] = 0\n",
    "tn_hg['is_HomeGoods'] = 1"
   ]
  },
  {
   "cell_type": "code",
   "execution_count": 15,
   "metadata": {},
   "outputs": [],
   "source": [
    "#combine those data\n",
    "dfList = [ala_tj, ala_ma, ala_hg, fl_tj, fl_ma, fl_hg, tn_tj, tn_ma, tn_hg]  # List of your dataframes\n",
    "new_df = pd.concat(dfList)"
   ]
  },
  {
   "cell_type": "code",
   "execution_count": 16,
   "metadata": {},
   "outputs": [],
   "source": [
    "new_df.to_csv(\"/Users/xujunlan/Desktop/597p/new_dataset.csv\")"
   ]
  },
  {
   "cell_type": "code",
   "execution_count": null,
   "metadata": {},
   "outputs": [],
   "source": []
  }
 ],
 "metadata": {
  "hide_input": false,
  "kernelspec": {
   "display_name": "Python 3",
   "language": "python",
   "name": "python3"
  },
  "language_info": {
   "codemirror_mode": {
    "name": "ipython",
    "version": 3
   },
   "file_extension": ".py",
   "mimetype": "text/x-python",
   "name": "python",
   "nbconvert_exporter": "python",
   "pygments_lexer": "ipython3",
   "version": "3.8.6"
  },
  "toc": {
   "base_numbering": 1,
   "nav_menu": {},
   "number_sections": true,
   "sideBar": true,
   "skip_h1_title": false,
   "title_cell": "Table of Contents",
   "title_sidebar": "Contents",
   "toc_cell": false,
   "toc_position": {},
   "toc_section_display": true,
   "toc_window_display": false
  }
 },
 "nbformat": 4,
 "nbformat_minor": 5
}
