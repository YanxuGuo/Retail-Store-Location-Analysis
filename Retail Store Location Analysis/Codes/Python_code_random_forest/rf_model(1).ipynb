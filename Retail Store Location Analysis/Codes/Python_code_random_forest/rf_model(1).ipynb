{
 "cells": [
  {
   "cell_type": "code",
   "execution_count": 1,
   "id": "f2a14a0b",
   "metadata": {},
   "outputs": [],
   "source": [
    "import pandas as pd\n",
    "from sklearn.ensemble import RandomForestRegressor\n",
    "import pickle"
   ]
  },
  {
   "cell_type": "code",
   "execution_count": 2,
   "id": "12b30fc8",
   "metadata": {},
   "outputs": [],
   "source": [
    "def feature_select(input_df):\n",
    "    output_df = input_df[['MedianIncome', 'MedianAge', 'Family', 'Nonfamily',\n",
    "       'Householdsize0', 'Householdsize2', 'Pop Age 15+: Married',\n",
    "       'Pop Age 15+: Nevermarried', 'Pop Age 15+: Divorced',\n",
    "       'Pop Age 25+: Bachelor\\'s Degree', 'Pop Age 25 Grad Professional',\n",
    "       'Adult', 'Blackpop', 'Whitepop', 'Hispanicpop', 'Mobility', 'AREA',\n",
    "       'Population_Density', 'Female_density', 'GDP', 'Is_Florida',\n",
    "       'Is_Tennessee', 'Is_Alabama', 'TJ.Maxx', 'Marshalls', 'HomeGoods',\n",
    "       'Lowe\\'s_3m', 'The Home Depot_3m', 'Walmart_3m', 'Burlington_3m',\n",
    "       'Kohl\\'s_3m', 'Ross Dress for Less_3m', 'Lowe\\'s_visits_3m',\n",
    "       'The Home Depot_visits_3m', 'Walmart_visits_3m', 'Burlington_visits_3m',\n",
    "       'Kohl\\'s_visits_3m', 'Ross Dress for Less_visits_3m', 'Lowe\\'s_1m',\n",
    "       'The Home Depot_1m', 'Burlington_1m', 'Kohl\\'s_1m',\n",
    "       'Ross Dress for Less_1m', 'Lowe\\'s_visits_1m',\n",
    "       'The Home Depot_visits_1m', 'Burlington_visits_1m', 'Kohl\\'s_visits_1m',\n",
    "       'Ross Dress for Less_visits_1m', 'Aldi\\'s_3m', 'Publix_3m',\n",
    "       'The Fresh Market_3m', 'Whole Foods Market_3m', 'Winn-Dixie_3m',\n",
    "       'Aldi\\'s_visits_3m', 'Publix_visits_3m', 'The Fresh Market_visits_3m',\n",
    "       'Whole Foods Market_visits_3m', 'Winn-Dixie_visits_3m', 'num_star',\n",
    "       'tjmaxx_3m', 'Marshalls_3m', 'Homegoods_3m', 'tjmaxx_visits_3m',\n",
    "       'Marshalls_visits_3m', 'Homegoods_visits_3m']]\n",
    "    return output_df\n",
    "\n",
    "########################################################################################\n",
    "def winsorize(input_df):\n",
    "    import pickle\n",
    "    # load the mean and standard deviation of the original data distribution\n",
    "    file = open('mean.pkl', 'rb')\n",
    "    df_mean = pickle.load(file)\n",
    "    df_mean = df_mean.drop(labels=['Population'])\n",
    "    file.close()\n",
    "    \n",
    "    file = open('std.pkl', 'rb')\n",
    "    df_std = pickle.load(file)\n",
    "    df_std = df_std.drop(labels=['Population'])\n",
    "    file.close()\n",
    "    \n",
    "    # winsorize using 3*std\n",
    "    df_1 = pd.DataFrame()\n",
    "    for i in input_df.columns:\n",
    "        temp = input_df[i].copy()\n",
    "        lo = temp - 3*df_std[i]\n",
    "        up = temp + 3*df_std[i]\n",
    "        temp[temp < lo] = lo\n",
    "        temp[temp > up] = up\n",
    "\n",
    "        df_1 = pd.concat([df_1, temp], axis=1, ignore_index=True, sort=False)\n",
    "    df_1.columns = input_df.columns\n",
    "    return df_1\n",
    "\n",
    "########################################################################################\n",
    "def min_max(df):\n",
    "    # load the min and max value of the original data distribution\n",
    "    import pickle\n",
    "    file = open('max.pkl', 'rb')\n",
    "    df_max = pickle.load(file)\n",
    "    df_max = df_max.drop(labels=['Population'])\n",
    "    file.close()\n",
    "    \n",
    "    file = open('min.pkl', 'rb')\n",
    "    df_min = pickle.load(file)\n",
    "    df_min = df_min.drop(labels=['Population'])\n",
    "    file.close()\n",
    "    \n",
    "    output_df = (df - df_min) / (df_max - df_min)\n",
    "    return output_df\n"
   ]
  },
  {
   "cell_type": "code",
   "execution_count": 3,
   "id": "a6391f70",
   "metadata": {},
   "outputs": [],
   "source": [
    "def model_output(df):\n",
    "    preprocessed_df = min_max(winsorize(feature_select(df)))\n",
    "    # load the model\n",
    "    import pickle\n",
    "    file = open('rf.pkl', 'rb')\n",
    "    rf = pickle.load(file)\n",
    "    file.close()\n",
    "    \n",
    "    return rf.predict(preprocessed_df)"
   ]
  },
  {
   "cell_type": "code",
   "execution_count": 4,
   "id": "a64c5268",
   "metadata": {},
   "outputs": [],
   "source": [
    "df = pd.read_csv('dataset.csv', index_col='Unnamed: 0')"
   ]
  },
  {
   "cell_type": "code",
   "execution_count": 5,
   "id": "e7e5c178",
   "metadata": {},
   "outputs": [],
   "source": [
    "out = model_output(df)"
   ]
  },
  {
   "cell_type": "code",
   "execution_count": null,
   "id": "ee716381",
   "metadata": {},
   "outputs": [],
   "source": []
  }
 ],
 "metadata": {
  "kernelspec": {
   "display_name": "Python 3 (ipykernel)",
   "language": "python",
   "name": "python3"
  },
  "language_info": {
   "codemirror_mode": {
    "name": "ipython",
    "version": 3
   },
   "file_extension": ".py",
   "mimetype": "text/x-python",
   "name": "python",
   "nbconvert_exporter": "python",
   "pygments_lexer": "ipython3",
   "version": "3.9.12"
  }
 },
 "nbformat": 4,
 "nbformat_minor": 5
}
